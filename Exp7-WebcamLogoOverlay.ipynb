{
 "cells": [
  {
   "cell_type": "code",
   "execution_count": 1,
   "id": "d1dcca4d",
   "metadata": {},
   "outputs": [],
   "source": [
    "import cv2 as cv"
   ]
  },
  {
   "cell_type": "code",
   "execution_count": 2,
   "id": "2acc0c26",
   "metadata": {},
   "outputs": [
    {
     "name": "stdout",
     "output_type": "stream",
     "text": [
      "Stopped and saved: data/Video/webcam_with_logo.avi\n"
     ]
    }
   ],
   "source": [
    "logo_path = f\"data/Images/klh-logo.png\"\n",
    "logo = cv.imread(logo_path)\n",
    "logo = cv.resize(logo, (200, 200))\n",
    "\n",
    "video = cv.VideoCapture(0)\n",
    "\n",
    "frame_width = int(video.get(cv.CAP_PROP_FRAME_WIDTH))\n",
    "frame_height = int(video.get(cv.CAP_PROP_FRAME_HEIGHT))\n",
    "size = (frame_width, frame_height)\n",
    "\n",
    "output_path = f\"data/Video/webcam_with_logo.avi\"\n",
    "result = cv.VideoWriter(\n",
    "    output_path, \n",
    "    cv.VideoWriter_fourcc(*'MJPG'), \n",
    "    10, \n",
    "    size\n",
    ")\n",
    "\n",
    "logo_height, logo_width, _ = logo.shape\n",
    "x_offset = frame_width - logo_width\n",
    "y_offset = 0\n",
    "\n",
    "while True:\n",
    "    ret, frame = video.read()\n",
    "    if not ret:\n",
    "        break\n",
    "\n",
    "    frame[y_offset:y_offset + logo_height, x_offset:x_offset + logo_width] = logo\n",
    "    result.write(frame)\n",
    "    cv.imshow(\"Webcam with Logo\", frame)\n",
    "\n",
    "    if cv.waitKey(1) & 0xFF == ord('s'):\n",
    "        print(\"Stopped and saved:\", output_path)\n",
    "        break\n",
    "\n",
    "video.release()\n",
    "result.release()\n",
    "cv.destroyAllWindows()\n"
   ]
  },
  {
   "cell_type": "code",
   "execution_count": null,
   "id": "99b0daf1",
   "metadata": {},
   "outputs": [],
   "source": [
    "# Read original image\n",
    "img = cv.imread('messi5.jpg')\n",
    "# Resize to 40% (downscale)\n",
    "half = cv.resize(img, (0, 0), fx=0.4, fy=0.4)\n",
    "# Resize to specific size (1050 x 1610)\n",
    "bigger = cv.resize(img, (1050, 1610))\n",
    "# Print shape info\n",
    "print(\"Original:\", img.shape)\n",
    "print(\"Half:\", half.shape)\n",
    "print(\"Bigger:\", bigger.shape)\n",
    "\n",
    "# Display and save original image\n",
    "cv.imshow(\"Image1 - Original\", img)\n",
    "cv.imwrite(\"messi5_original.jpg\", img)\n",
    "cv.waitKey(0)\n",
    "cv.destroyAllWindows()\n",
    "# Display and save half image\n",
    "cv.imshow(\"Image2 - Resized 40%\", half)\n",
    "cv.imwrite(\"messi5_half.jpg\", half)\n",
    "cv.waitKey(0)\n",
    "cv.destroyAllWindows()\n",
    "# Display and save bigger image\n",
    "cv.imshow(\"Image3 - Resized to 1050x1610\", bigger)\n",
    "cv.imwrite(\"messi5_bigger.jpg\", bigger)\n",
    "cv.waitKey(0)\n",
    "cv.destroyAllWindows()\n"
   ]
  },
  {
   "cell_type": "code",
   "execution_count": null,
   "id": "8791050f",
   "metadata": {},
   "outputs": [],
   "source": []
  }
 ],
 "metadata": {
  "kernelspec": {
   "display_name": "opencv-experiments (3.12.11)",
   "language": "python",
   "name": "python3"
  },
  "language_info": {
   "codemirror_mode": {
    "name": "ipython",
    "version": 3
   },
   "file_extension": ".py",
   "mimetype": "text/x-python",
   "name": "python",
   "nbconvert_exporter": "python",
   "pygments_lexer": "ipython3",
   "version": "3.12.11"
  }
 },
 "nbformat": 4,
 "nbformat_minor": 5
}
