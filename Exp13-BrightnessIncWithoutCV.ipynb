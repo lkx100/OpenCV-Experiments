{
 "cells": [
  {
   "cell_type": "code",
   "execution_count": 1,
   "id": "3fc0c39c",
   "metadata": {},
   "outputs": [],
   "source": [
    "import cv2 as cv\n",
    "import numpy as np"
   ]
  },
  {
   "cell_type": "code",
   "execution_count": 2,
   "id": "6e898268",
   "metadata": {},
   "outputs": [],
   "source": [
    "# Read grayscale image\n",
    "img = cv.imread('data/Images/sunflower.jpg', 0)\n",
    "\n",
    "# Add 40 to each pixel but cap at 255\n",
    "img1 = np.clip(img + 40, 0, 255).astype(np.uint8)\n",
    "\n",
    "# Show original and modified images\n",
    "cv.imshow(\"Original\", img)\n",
    "cv.imshow(\"Increased Brightness\", img1)\n",
    "\n",
    "cv.waitKey(0)\n",
    "cv.destroyAllWindows()\n"
   ]
  },
  {
   "cell_type": "code",
   "execution_count": null,
   "id": "b1ee4424",
   "metadata": {},
   "outputs": [],
   "source": []
  }
 ],
 "metadata": {
  "kernelspec": {
   "display_name": "opencv-experiments (3.12.11)",
   "language": "python",
   "name": "python3"
  },
  "language_info": {
   "codemirror_mode": {
    "name": "ipython",
    "version": 3
   },
   "file_extension": ".py",
   "mimetype": "text/x-python",
   "name": "python",
   "nbconvert_exporter": "python",
   "pygments_lexer": "ipython3",
   "version": "3.12.11"
  }
 },
 "nbformat": 4,
 "nbformat_minor": 5
}
