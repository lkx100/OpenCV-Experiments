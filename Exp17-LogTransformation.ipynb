{
 "cells": [
  {
   "cell_type": "code",
   "execution_count": 1,
   "id": "4345c460",
   "metadata": {},
   "outputs": [],
   "source": [
    "import cv2 as cv\n",
    "import numpy as np"
   ]
  },
  {
   "cell_type": "code",
   "execution_count": null,
   "id": "10d02a22",
   "metadata": {},
   "outputs": [],
   "source": [
    "img = cv.imread('data/Images/sunflower.jpg')\n",
    "img = np.float32(img)\n",
    "c = 255 / np.log(1 + np.max(img))\n",
    "log_transformed = c * np.log(1 + img)\n",
    "log_transformed = np.uint8(log_transformed)\n",
    "cv.imshow(\"Original\", np.uint8(img))\n",
    "cv.waitKey(0)a\n",
    "cv.imshow(\"Log Transformed\", log_transformed)\n",
    "cv.waitKey(0)\n",
    "cv.destroyAllWindows()\n"
   ]
  },
  {
   "cell_type": "code",
   "execution_count": null,
   "id": "b12676d5",
   "metadata": {},
   "outputs": [],
   "source": []
  }
 ],
 "metadata": {
  "kernelspec": {
   "display_name": "opencv-experiments (3.12.11)",
   "language": "python",
   "name": "python3"
  },
  "language_info": {
   "codemirror_mode": {
    "name": "ipython",
    "version": 3
   },
   "file_extension": ".py",
   "mimetype": "text/x-python",
   "name": "python",
   "nbconvert_exporter": "python",
   "pygments_lexer": "ipython3",
   "version": "3.12.11"
  }
 },
 "nbformat": 4,
 "nbformat_minor": 5
}
