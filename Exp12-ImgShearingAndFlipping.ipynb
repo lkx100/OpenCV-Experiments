{
 "cells": [
  {
   "cell_type": "code",
   "execution_count": 2,
   "id": "0059f71a",
   "metadata": {},
   "outputs": [],
   "source": [
    "import cv2 as cv\n",
    "import numpy as np"
   ]
  },
  {
   "cell_type": "code",
   "execution_count": 3,
   "id": "c79c297d",
   "metadata": {},
   "outputs": [],
   "source": [
    "image = cv.imread('data/Images/alphabets.jpg')\n",
    "rows, cols = image.shape[:2]\n",
    "\n",
    "# Shear matrix (x-direction)\n",
    "shear_matrix = np.float32([[1, 0.5, 0],\n",
    "                           [0,   1, 0]])\n",
    "\n",
    "# Apply affine transformation for shearing\n",
    "sheared_image = cv.warpAffine(image, shear_matrix, (int(cols * 1.5), rows))\n",
    "\n",
    "# Flipping the image\n",
    "h_flip = cv.flip(image, 1)   # Horizontal flip\n",
    "v_flip = cv.flip(image, 0)   # Vertical flip\n",
    "both_flip = cv.flip(image, -1)  # Horizontal + Vertical flip\n",
    "\n",
    "# Displaying all results\n",
    "cv.imshow(\"Original\", image)\n",
    "cv.waitKey(0)\n",
    "cv.imshow(\"Sheared (Skewed)\", sheared_image)\n",
    "cv.waitKey(0)\n",
    "cv.imshow(\"HFlip\", h_flip)\n",
    "cv.waitKey(0)\n",
    "cv.imshow(\"VFlip\", v_flip)\n",
    "cv.waitKey(0)\n",
    "cv.imshow(\"HVFlip\", both_flip)\n",
    "cv.waitKey(0)\n",
    "cv.destroyAllWindows()\n"
   ]
  },
  {
   "cell_type": "code",
   "execution_count": null,
   "id": "a75e25e1",
   "metadata": {},
   "outputs": [],
   "source": []
  }
 ],
 "metadata": {
  "kernelspec": {
   "display_name": "opencv-experiments (3.12.11)",
   "language": "python",
   "name": "python3"
  },
  "language_info": {
   "codemirror_mode": {
    "name": "ipython",
    "version": 3
   },
   "file_extension": ".py",
   "mimetype": "text/x-python",
   "name": "python",
   "nbconvert_exporter": "python",
   "pygments_lexer": "ipython3",
   "version": "3.12.11"
  }
 },
 "nbformat": 4,
 "nbformat_minor": 5
}
