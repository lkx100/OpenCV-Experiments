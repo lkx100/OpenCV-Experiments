{
 "cells": [
  {
   "cell_type": "code",
   "execution_count": 1,
   "id": "46350714",
   "metadata": {},
   "outputs": [],
   "source": [
    "import cv2 as cv\n",
    "import numpy as np"
   ]
  },
  {
   "cell_type": "code",
   "execution_count": 2,
   "id": "b18e19d4",
   "metadata": {},
   "outputs": [],
   "source": [
    "def contrast_stretch(img):\n",
    "    a, b = 100, 0  # new intensity range\n",
    "    rmin, rmax = np.min(img), np.max(img)\n",
    "    stretched = (img - rmin) * ((b - a) / (rmax - rmin)) + a\n",
    "    return np.uint8(stretched)\n",
    "\n",
    "img = cv.imread('data/Images/sunflower.jpg', 0)\n",
    "cv.imshow(\"Original\", img)\n",
    "cv.waitKey(0)\n",
    "stretched_img = contrast_stretch(img)\n",
    "cv.imshow(\"Contrast Stretched\", stretched_img)\n",
    "cv.waitKey(0)\n",
    "cv.destroyAllWindows()"
   ]
  },
  {
   "cell_type": "code",
   "execution_count": 2,
   "id": "56e95fc1",
   "metadata": {},
   "outputs": [],
   "source": [
    "img = cv.imread('data/Images/sunflower.jpg', 0)\n",
    "_, thresh = cv.threshold(img, 127, 255, cv.THRESH_BINARY)\n",
    "# Show the thresholded binary image\n",
    "cv.imshow(\"Thresholded\", thresh)\n",
    "cv.waitKey(0)\n",
    "cv.destroyAllWindows()"
   ]
  },
  {
   "cell_type": "code",
   "execution_count": null,
   "id": "c44f2a4a",
   "metadata": {},
   "outputs": [],
   "source": []
  }
 ],
 "metadata": {
  "kernelspec": {
   "display_name": "opencv-experiments (3.12.11)",
   "language": "python",
   "name": "python3"
  },
  "language_info": {
   "codemirror_mode": {
    "name": "ipython",
    "version": 3
   },
   "file_extension": ".py",
   "mimetype": "text/x-python",
   "name": "python",
   "nbconvert_exporter": "python",
   "pygments_lexer": "ipython3",
   "version": "3.12.11"
  }
 },
 "nbformat": 4,
 "nbformat_minor": 5
}
