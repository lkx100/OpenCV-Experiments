{
 "cells": [
  {
   "cell_type": "code",
   "execution_count": 1,
   "id": "6518fb00",
   "metadata": {},
   "outputs": [],
   "source": [
    "import cv2 as cv\n",
    "import numpy as np"
   ]
  },
  {
   "cell_type": "code",
   "execution_count": null,
   "id": "c6f7a02b",
   "metadata": {},
   "outputs": [],
   "source": [
    "url = \"http://192.168.1.4:8080/video\"  # Replace with your actual IP\n",
    "cp = cv.VideoCapture(url)\n",
    "\n",
    "while True:\n",
    "    camera, frame = cp.read()\n",
    "    if frame is not None:\n",
    "        cv.imshow(\"Frame\", frame)\n",
    "\n",
    "    if cv.waitKey(1) & 0xFF == ord('s'):\n",
    "        break\n",
    "\n",
    "cp.release()\n",
    "cv.destroyAllWindows()\n"
   ]
  }
 ],
 "metadata": {
  "kernelspec": {
   "display_name": "opencv-experiments (3.12.11)",
   "language": "python",
   "name": "python3"
  },
  "language_info": {
   "codemirror_mode": {
    "name": "ipython",
    "version": 3
   },
   "file_extension": ".py",
   "mimetype": "text/x-python",
   "name": "python",
   "nbconvert_exporter": "python",
   "pygments_lexer": "ipython3",
   "version": "3.12.11"
  }
 },
 "nbformat": 4,
 "nbformat_minor": 5
}
