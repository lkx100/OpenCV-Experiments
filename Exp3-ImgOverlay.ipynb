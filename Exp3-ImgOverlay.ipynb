{
 "cells": [
  {
   "cell_type": "code",
   "execution_count": 3,
   "id": "59cfe7fc",
   "metadata": {},
   "outputs": [],
   "source": [
    "from PIL import Image\n",
    "import numpy as np"
   ]
  },
  {
   "cell_type": "code",
   "execution_count": null,
   "id": "d48f048d",
   "metadata": {},
   "outputs": [],
   "source": [
    "flower_dir = f\"data/Images/sunflower.jpg\"\n",
    "logo_dir = f\"data/Images/klh-logo.png\"\n",
    "\n",
    "logo = Image.open(logo_dir)\n",
    "flower = Image.open(flower_dir)\n",
    "\n",
    "# Resize Logo - Optional\n",
    "logo = logo.resize((100, 100))\n",
    "# Get Image dimension\n",
    "fwidth, fheight = flower.size\n",
    "lwidth, lheight = logo.size\n",
    "\n",
    "# Get Top position\n",
    "position = (fheight - lheight, 0)\n",
    "flower.paste(logo, position)\n",
    "\n",
    "flower.show()\n",
    "flower.save(f\"data/Images/flower_with_logo.jpg\")\n"
   ]
  },
  {
   "cell_type": "code",
   "execution_count": null,
   "id": "cbb15e80",
   "metadata": {},
   "outputs": [],
   "source": []
  }
 ],
 "metadata": {
  "kernelspec": {
   "display_name": "opencv-experiments (3.12.11)",
   "language": "python",
   "name": "python3"
  },
  "language_info": {
   "codemirror_mode": {
    "name": "ipython",
    "version": 3
   },
   "file_extension": ".py",
   "mimetype": "text/x-python",
   "name": "python",
   "nbconvert_exporter": "python",
   "pygments_lexer": "ipython3",
   "version": "3.12.11"
  }
 },
 "nbformat": 4,
 "nbformat_minor": 5
}
