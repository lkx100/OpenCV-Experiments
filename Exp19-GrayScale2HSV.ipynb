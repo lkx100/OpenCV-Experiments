{
 "cells": [
  {
   "cell_type": "code",
   "execution_count": 1,
   "id": "f29e0fbb",
   "metadata": {},
   "outputs": [],
   "source": [
    "import cv2 as cv\n",
    "import numpy as np\n",
    "import os"
   ]
  },
  {
   "cell_type": "code",
   "execution_count": 2,
   "id": "0dae531c",
   "metadata": {},
   "outputs": [
    {
     "name": "stdout",
     "output_type": "stream",
     "text": [
      "Images saved successfully:\n",
      "- Grayscale: data/Images/19a.png\n",
      "- HSV: data/Images/19_hsv.png\n"
     ]
    }
   ],
   "source": [
    "# Set target save path\n",
    "save_path = 'data/Images/'\n",
    "\n",
    "# Load original image in grayscale\n",
    "img = cv.imread('data/Images/sunflower.jpg', 0)\n",
    "if img is None:\n",
    "    print(\"Image not found.\")\n",
    "    exit()\n",
    "\n",
    "# Save grayscale image\n",
    "cv.imwrite(os.path.join(save_path, \"19a.png\"), img)\n",
    "\n",
    "# Load original image in color (BGR)\n",
    "img_color = cv.imread('data/Images/sunflower.jpg')\n",
    "if img_color is None:\n",
    "    print(\"Color image not found.\")\n",
    "    exit()\n",
    "\n",
    "# Convert BGR to HSV\n",
    "hsv_img = cv.cvtColor(img_color, cv.COLOR_BGR2HSV)\n",
    "\n",
    "# Save HSV image\n",
    "cv.imwrite(os.path.join(save_path, \"19_hsv.png\"), hsv_img)\n",
    "\n",
    "print(\"Images saved successfully:\")\n",
    "print(f\"- Grayscale: {os.path.join(save_path, '19a.png')}\")\n",
    "print(f\"- HSV: {os.path.join(save_path, '19_hsv.png')}\")\n"
   ]
  },
  {
   "cell_type": "code",
   "execution_count": null,
   "id": "330f7265",
   "metadata": {},
   "outputs": [],
   "source": []
  }
 ],
 "metadata": {
  "kernelspec": {
   "display_name": "opencv-experiments (3.12.11)",
   "language": "python",
   "name": "python3"
  },
  "language_info": {
   "codemirror_mode": {
    "name": "ipython",
    "version": 3
   },
   "file_extension": ".py",
   "mimetype": "text/x-python",
   "name": "python",
   "nbconvert_exporter": "python",
   "pygments_lexer": "ipython3",
   "version": "3.12.11"
  }
 },
 "nbformat": 4,
 "nbformat_minor": 5
}
