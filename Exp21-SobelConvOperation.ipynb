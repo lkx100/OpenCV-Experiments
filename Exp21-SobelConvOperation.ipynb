{
 "cells": [
  {
   "cell_type": "code",
   "execution_count": 2,
   "id": "d9655b8b",
   "metadata": {},
   "outputs": [],
   "source": [
    "# Convolution using filter2D: Negative values allowed\n",
    "import cv2 as cv\n",
    "import numpy as np"
   ]
  },
  {
   "cell_type": "code",
   "execution_count": 3,
   "id": "c564ab2b",
   "metadata": {},
   "outputs": [
    {
     "name": "stdout",
     "output_type": "stream",
     "text": [
      "Input Matrix (a):\n",
      "[[1 2 3]\n",
      " [4 5 6]\n",
      " [7 8 9]]\n",
      "\n",
      "Sobel Kernel (b):\n",
      "[[-1.  0.  1.]\n",
      " [-2.  0.  2.]\n",
      " [-1.  0.  1.]]\n",
      "\n",
      "Output Matrix after Convolution:\n",
      "[[ -9.  -6.   9.]\n",
      " [-20.  -8.  20.]\n",
      " [-21.  -6.  21.]]\n"
     ]
    }
   ],
   "source": [
    "# Input matrix (image-like)\n",
    "a = np.array([[1, 2, 3],\n",
    "              [4, 5, 6],\n",
    "              [7, 8, 9]], dtype=np.uint8)\n",
    "\n",
    "# Sobel kernel for horizontal edge detection\n",
    "b = np.array([[-1, 0, 1],\n",
    "              [-2, 0, 2],\n",
    "              [-1, 0, 1]], dtype=np.float32)\n",
    "\n",
    "print(\"Input Matrix (a):\")\n",
    "print(a)\n",
    "\n",
    "print(\"\\nSobel Kernel (b):\")\n",
    "print(b)\n",
    "\n",
    "# Flip the kernel for true convolution\n",
    "b1 = cv.flip(b, -1)\n",
    "\n",
    "# Apply convolution\n",
    "c = cv.filter2D(src=a, ddepth=cv.CV_32F, kernel=b1, borderType=cv.BORDER_CONSTANT)\n",
    "\n",
    "print(\"\\nOutput Matrix after Convolution:\")\n",
    "print(c)\n"
   ]
  }
 ],
 "metadata": {
  "kernelspec": {
   "display_name": "opencv-experiments (3.12.11)",
   "language": "python",
   "name": "python3"
  },
  "language_info": {
   "codemirror_mode": {
    "name": "ipython",
    "version": 3
   },
   "file_extension": ".py",
   "mimetype": "text/x-python",
   "name": "python",
   "nbconvert_exporter": "python",
   "pygments_lexer": "ipython3",
   "version": "3.12.11"
  }
 },
 "nbformat": 4,
 "nbformat_minor": 5
}
