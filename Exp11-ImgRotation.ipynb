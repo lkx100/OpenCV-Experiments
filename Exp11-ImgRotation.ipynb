{
 "cells": [
  {
   "cell_type": "code",
   "execution_count": 1,
   "id": "8f568da0",
   "metadata": {},
   "outputs": [],
   "source": [
    "import cv2 as cv"
   ]
  },
  {
   "cell_type": "code",
   "execution_count": 2,
   "id": "f90ff255",
   "metadata": {},
   "outputs": [
    {
     "name": "stdout",
     "output_type": "stream",
     "text": [
      "[[  0.35355339   0.35355339 178.3220241 ]\n",
      " [ -0.35355339   0.35355339 288.16473657]]\n",
      "Image Rotation\n"
     ]
    }
   ],
   "source": [
    "img_dir = \"data/Images/alphabets.jpg\"\n",
    "img = cv.imread(img_dir)\n",
    "height, width = img.shape[:2]\n",
    "center = (width / 2, height / 2)\n",
    "\n",
    "rotate_matrix = cv.getRotationMatrix2D(center=center, angle=45, scale=0.5)\n",
    "print(rotate_matrix)\n",
    "\n",
    "rotated_image = cv.warpAffine(src=img, M=rotate_matrix, dsize=(width, height))\n",
    "\n",
    "cv.imshow(\"Image\", img)\n",
    "print(\"Image Rotation\")\n",
    "cv.imshow(\"RImage\", rotated_image)\n",
    "cv.waitKey(0)\n",
    "cv.destroyAllWindows()"
   ]
  },
  {
   "cell_type": "code",
   "execution_count": null,
   "id": "f2f67ad6",
   "metadata": {},
   "outputs": [],
   "source": []
  }
 ],
 "metadata": {
  "kernelspec": {
   "display_name": "opencv-experiments (3.12.11)",
   "language": "python",
   "name": "python3"
  },
  "language_info": {
   "codemirror_mode": {
    "name": "ipython",
    "version": 3
   },
   "file_extension": ".py",
   "mimetype": "text/x-python",
   "name": "python",
   "nbconvert_exporter": "python",
   "pygments_lexer": "ipython3",
   "version": "3.12.11"
  }
 },
 "nbformat": 4,
 "nbformat_minor": 5
}
