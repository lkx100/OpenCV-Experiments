{
 "cells": [
  {
   "cell_type": "code",
   "execution_count": 2,
   "id": "ebabb80a",
   "metadata": {},
   "outputs": [],
   "source": [
    "import cv2 as cv\n",
    "import numpy as np\n",
    "import os"
   ]
  },
  {
   "cell_type": "code",
   "execution_count": 3,
   "id": "8d94e1d9",
   "metadata": {},
   "outputs": [],
   "source": [
    "# Set your custom save path\n",
    "save_path = 'data/Images/'\n",
    "\n",
    "# Ensure the path exists\n",
    "if not os.path.exists(save_path):\n",
    "    os.makedirs(save_path)\n",
    "\n",
    "# Open webcam\n",
    "cap = cv.VideoCapture(0)\n",
    "\n",
    "if not cap.isOpened():\n",
    "    print(\"Cannot open camera\")\n",
    "    exit()\n",
    "\n",
    "# Get video properties\n",
    "frame_width = int(cap.get(3))\n",
    "frame_height = int(cap.get(4))\n",
    "fps = 20  # You can change FPS if needed\n",
    "\n",
    "# Define video codecs and output file paths\n",
    "fourcc = cv.VideoWriter_fourcc(*'XVID')\n",
    "original_path = os.path.join(save_path, 'original_output.avi')\n",
    "filtered_path = os.path.join(save_path, 'filtered_output.avi')\n",
    "\n",
    "out_original = cv.VideoWriter(original_path, fourcc, fps, (frame_width, frame_height))\n",
    "out_filtered = cv.VideoWriter(filtered_path, fourcc, fps, (frame_width, frame_height))\n",
    "\n",
    "while True:\n",
    "    ret, frame = cap.read()\n",
    "    if not ret:\n",
    "        print(\"Can't receive frame. Exiting ...\")\n",
    "        break\n",
    "\n",
    "    hsv = cv.cvtColor(frame, cv.COLOR_BGR2HSV)\n",
    "\n",
    "    lower_blue = np.array([110, 50, 50])\n",
    "    upper_blue = np.array([130, 255, 255])\n",
    "\n",
    "    mask = cv.inRange(hsv, lower_blue, upper_blue)\n",
    "    res = cv.bitwise_and(frame, frame, mask=mask)\n",
    "\n",
    "    # Write videos to file\n",
    "    out_original.write(frame)\n",
    "    out_filtered.write(res)\n",
    "\n",
    "    # Show the windows\n",
    "    cv.imshow('frame', frame)\n",
    "    cv.imshow('mask', mask)\n",
    "    cv.imshow('res', res)\n",
    "\n",
    "    if cv.waitKey(1) & 0xFF == 27:  # ESC key to exit\n",
    "        break\n",
    "\n",
    "# Release everything\n",
    "cap.release()\n",
    "out_original.release()\n",
    "out_filtered.release()\n",
    "cv.destroyAllWindows()\n"
   ]
  }
 ],
 "metadata": {
  "kernelspec": {
   "display_name": "opencv-experiments (3.12.11)",
   "language": "python",
   "name": "python3"
  },
  "language_info": {
   "codemirror_mode": {
    "name": "ipython",
    "version": 3
   },
   "file_extension": ".py",
   "mimetype": "text/x-python",
   "name": "python",
   "nbconvert_exporter": "python",
   "pygments_lexer": "ipython3",
   "version": "3.12.11"
  }
 },
 "nbformat": 4,
 "nbformat_minor": 5
}
