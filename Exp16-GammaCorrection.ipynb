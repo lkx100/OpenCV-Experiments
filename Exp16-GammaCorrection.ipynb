{
 "cells": [
  {
   "cell_type": "code",
   "execution_count": 2,
   "id": "e8bfd8d2",
   "metadata": {},
   "outputs": [],
   "source": [
    "import cv2 as cv\n",
    "import numpy as np"
   ]
  },
  {
   "cell_type": "code",
   "execution_count": 3,
   "id": "b2387b25",
   "metadata": {},
   "outputs": [],
   "source": [
    "def gamma_correction(image, gamma=1.5):\n",
    "    invGamma = 1.0 / gamma\n",
    "    table = np.array([(i / 255.0) ** invGamma * 255 for i in range(256)]).astype(\"uint8\")\n",
    "    return cv.LUT(image, table)\n",
    "\n",
    "img = cv.imread('data/Images/sunflower.jpg')\n",
    "corrected = gamma_correction(img, gamma=2.2)\n",
    "\n",
    "cv.imshow(\"Original\", img)\n",
    "cv.waitKey(0)\n",
    "cv.imshow(\"Gamma Corrected\", corrected)\n",
    "cv.waitKey(0)\n",
    "cv.destroyAllWindows()\n"
   ]
  }
 ],
 "metadata": {
  "kernelspec": {
   "display_name": "opencv-experiments (3.12.11)",
   "language": "python",
   "name": "python3"
  },
  "language_info": {
   "codemirror_mode": {
    "name": "ipython",
    "version": 3
   },
   "file_extension": ".py",
   "mimetype": "text/x-python",
   "name": "python",
   "nbconvert_exporter": "python",
   "pygments_lexer": "ipython3",
   "version": "3.12.11"
  }
 },
 "nbformat": 4,
 "nbformat_minor": 5
}
