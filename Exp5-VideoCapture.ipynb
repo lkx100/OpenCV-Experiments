{
 "cells": [
  {
   "cell_type": "code",
   "execution_count": 1,
   "id": "b7832b78",
   "metadata": {},
   "outputs": [],
   "source": [
    "import cv2 as cv"
   ]
  },
  {
   "cell_type": "code",
   "execution_count": 2,
   "id": "ba01ad41",
   "metadata": {},
   "outputs": [
    {
     "name": "stdout",
     "output_type": "stream",
     "text": [
      "Recording... Press 's' to stop.\n",
      "Stopped recording.\n"
     ]
    }
   ],
   "source": [
    "video = cv.VideoCapture(0)\n",
    "\n",
    "if not video.isOpened():\n",
    "    print(\"Error: Cannot access webcam.\")\n",
    "    exit()\n",
    "\n",
    "frame_width = int(video.get(cv.CAP_PROP_FRAME_WIDTH))\n",
    "frame_height = int(video.get(cv.CAP_PROP_FRAME_HEIGHT))\n",
    "size = (frame_width, frame_height)\n",
    "\n",
    "result = cv.VideoWriter(\n",
    "    'data/Video/filename.avi',\n",
    "    cv.VideoWriter_fourcc(*'MJPG'),\n",
    "    10,\n",
    "    size\n",
    ")\n",
    "\n",
    "print(\"Recording... Press 's' to stop.\")\n",
    "\n",
    "while True:\n",
    "    ret, frame = video.read()\n",
    "    if not ret:\n",
    "        print(\"Failed to grab frame.\")\n",
    "        break\n",
    "    result.write(frame)\n",
    "    cv.imshow('Webcam Feed', frame)\n",
    "\n",
    "    if cv.waitKey(1) & 0xFF == ord('s'):\n",
    "        print(\"Stopped recording.\")\n",
    "        break\n",
    "\n",
    "video.release()\n",
    "result.release()\n",
    "cv.destroyAllWindows()\n",
    "\n"
   ]
  }
 ],
 "metadata": {
  "kernelspec": {
   "display_name": "opencv-experiments (3.12.11)",
   "language": "python",
   "name": "python3"
  },
  "language_info": {
   "codemirror_mode": {
    "name": "ipython",
    "version": 3
   },
   "file_extension": ".py",
   "mimetype": "text/x-python",
   "name": "python",
   "nbconvert_exporter": "python",
   "pygments_lexer": "ipython3",
   "version": "3.12.11"
  }
 },
 "nbformat": 4,
 "nbformat_minor": 5
}
